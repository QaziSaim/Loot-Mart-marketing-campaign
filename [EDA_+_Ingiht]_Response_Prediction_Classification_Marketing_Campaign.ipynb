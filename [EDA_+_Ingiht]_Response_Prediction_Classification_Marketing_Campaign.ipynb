{
  "nbformat": 4,
  "nbformat_minor": 0,
  "metadata": {
    "colab": {
      "provenance": [],
      "authorship_tag": "ABX9TyNnD+4t2kTm0fm189VSurzU",
      "include_colab_link": true
    },
    "kernelspec": {
      "name": "python3",
      "display_name": "Python 3"
    },
    "language_info": {
      "name": "python"
    }
  },
  "cells": [
    {
      "cell_type": "markdown",
      "metadata": {
        "id": "view-in-github",
        "colab_type": "text"
      },
      "source": [
        "<a href=\"https://colab.research.google.com/github/QaziSaim/Loot-Mart-marketing-campaign/blob/main/%5BEDA_%2B_Ingiht%5D_Response_Prediction_Classification_Marketing_Campaign.ipynb\" target=\"_parent\"><img src=\"https://colab.research.google.com/assets/colab-badge.svg\" alt=\"Open In Colab\"/></a>"
      ]
    },
    {
      "cell_type": "markdown",
      "source": [
        "# **✨ Marketing Campaign - by KAZI SAHIM ✨**\n",
        "\n",
        "<!-- ![banner.png](https://raw.githubusercontent.com/nurimammasri/Marketing-Campaign-Model-Prediction-by-Datalicious/main/assets/banner.png) -->\n",
        "\n",
        "![banner](https://github.com/nurimammasri/Marketing-Campaign-Model-Prediction-by-Datalicious/assets/54845293/e995058c-4aa2-4c39-adb6-5b4ba5e06fa2)\n"
      ],
      "metadata": {
        "id": "4w-ztKBCyVXU"
      }
    },
    {
      "cell_type": "markdown",
      "source": [
        "## **📍 Table of Content 📍**\n",
        "- Business Understanding\n",
        "    - Problem Statement\n",
        "    - Roles\n",
        "    - Goals\n",
        "    - Objectives\n",
        "    - Business Metrics\n",
        "- Data Preparation\n",
        "    - Data Description\n",
        "    - Libraries & Datasets\n",
        "- Data Understanding\n",
        "    - Exploring Datasets\n",
        "    - Data Types Information\n",
        "    - Statistical Summary\n",
        "    - EDA (Exploratory Data Analysis)\n",
        "    - Feature Engineering / Extraction (Business Insight)\n",
        "    - Business Insight"
      ],
      "metadata": {
        "id": "SRd9QxyBypt-"
      }
    },
    {
      "cell_type": "markdown",
      "source": [
        "## **⚙ Work Environment ⚙**\n",
        "\n",
        "- **Tools**\n",
        "\n",
        "[![Made withJupyter](https://img.shields.io/badge/Made%20with-Jupyter-orange?style=for-the-badge&logo=Jupyter)](https://jupyter.org/try)\n",
        "\n",
        "[![Open In Collab](https://colab.research.google.com/assets/colab-badge.svg)](https://colab.research.google.com/github/nurimammasri/Marketing-Campaign-Model-Prediction-by-Datalicious/blob/main/Response%20Prediction%20Classification%20Marketing%20Campaign.ipynb)\n",
        "\n",
        "- **Programming Language**\n",
        "\n",
        "[![made-with-python](https://img.shields.io/badge/Made%20with-Python-1f425f.svg)](https://www.python.org/)\n",
        "\n",
        "- **Git and Github**\n",
        "\n",
        "Repository : [Marketing Campaign Model Prediction by Datalicious](https://github.com/nurimammasri/Marketing-Campaign-Model-Prediction-by-Datalicious.git)\n",
        "\n",
        "- **Libraries**\n",
        "\n",
        "[Requirements Text](https://github.com/nurimammasri/Marketing-Campaign-Model-Prediction-by-Datalicious/blob/main/requirements.txt)\n",
        "\n",
        "- **Dataset**\n",
        "\n",
        "[Marketing campaign](https://www.kaggle.com/datasets/rodsaldanha/arketing-campaign \"Marketing campaign dataset from Kaggle\")"
      ],
      "metadata": {
        "id": "yr44TbFmy6Mm"
      }
    },
    {
      "cell_type": "markdown",
      "source": [
        "## **⛳ Business Understanding ⛳**\n",
        "\n",
        "### **📌 Problem Statement**\n",
        "\n",
        "**Lotto Mart** is a supermarket operating in the retail sector, selling various types of products such as Fish, Meat, Fruits, Sweet Products, Wines, and Gold Products. Over the past 6 months, the Marketing Team has conducted a campaign by distributing discount vouchers to all customers through Broadcast Messages. However, after the campaign, Lotto Mart faced several issues as follows:\n",
        "- The **response rate** from the marketing campaign was low, around 14.91%\n",
        "- **Inefficient costs** associated with running the marketing campaign\n",
        "- **Profit was not proportional** to the costs incurred\n",
        "\n",
        "Given these challenges, the Marketing Team has requested the data team to analyze the issues. The company aims to create targeted marketing campaigns that align with **customer characteristics**. This strategy is expected to **increase the response rate**, **minimize costs**, and ultimately **boost profit**.\n",
        "\n",
        "\n",
        "### **📌 Goals**\n",
        "\n",
        "The company aims to increase the **response rate** and minimize **marketing campaign costs** to maximize **profit**.\n",
        "\n",
        "### **📌 Objectives**\n",
        "\n",
        "Create a classification model to **predict customer segments that will respond to the campaign**, thereby **reducing marketing costs and maximizing profit** in the next marketing campaign.\n",
        "\n",
        "### **📌 Business Metrics**\n",
        "\n",
        "- **Response Rate (RR)**\n",
        "\n",
        "  The percentage of total customer responses compared to the total number of campaigns delivered.\n",
        "  \n",
        "  _**RR Indicator:**_ 30% is considered good (Efti 2018).\n",
        "\n",
        "- **Net Profit Margin (NPM)**\n",
        "\n",
        "  Measures net profit in relation to sales. The higher the NPM, the more effective and efficient the marketing campaign.\n",
        "  \n",
        "  _**NPM Indicator:**_ 5% is low, 10-19% is average, 20% is good (Jayathilaka 2020).\n",
        "  \n",
        "- **Return on Investment (ROI)**\n",
        "\n",
        "  Calculated as the customer lifetime value (CLV) divided by the customer acquisition cost (CAC). It serves as an indicator of company performance and guides investor decision-making.\n",
        "  \n",
        "  _**ROI Indicator:**_ A ratio of 3:1 to 5:1 is considered good (Manzer 2017).\n",
        "  \n",
        "**📝 References:**\n",
        "\n",
        "- Efti S. 2018. Sales Benchmarks: The 30/50 rule for cold emailing & cold calling. Accessed May 20, 2023. https://blog.close.com/sales-benchmarks/\n",
        "- Handayani N, Winarningsih S. 2020. The Effect of Net Profit Margin and Return on Equity Toward Profit Growth. Moneter-Journal of Accounting and Finance 7(2): 198-204. https://doi.org/10.31294/moneter.v7i2.8701.\n",
        "- Jayathilaka AK. 2020. Operating Profit and Net Profit: Measurements of Profitability. Open Access Library Journal 7(12): 1-11. https://doi.org/10.4236/oalib.1107011.\n",
        "- Manzer D. 2017. Five insights into measuring marketing ROI. Accessed May 20, 2023. https://growswyft.com/five-insights-to-measure-your-roi/."
      ],
      "metadata": {
        "id": "S-aLxcBGzZ_F"
      }
    },
    {
      "cell_type": "markdown",
      "source": [
        "# **====== STAGE 1 ======**\n",
        "`Stage 1 (EDA, Insight, Visualization)`"
      ],
      "metadata": {
        "id": "_TDWLkpmz0Jz"
      }
    },
    {
      "cell_type": "markdown",
      "source": [
        "# **🛒 Data Preparation 🛒**"
      ],
      "metadata": {
        "id": "uMiBi6kdz_G8"
      }
    },
    {
      "cell_type": "markdown",
      "source": [
        "## **🕹 Data Description 🕹**\n",
        "\n",
        "```\n",
        "📌 The data is taken from kaggle - marketing_campaign.csv📌\n",
        "```\n",
        "\n",
        "**Marketing Campaign ([link datasets](https://www.kaggle.com/datasets/rodsaldanha/arketing-campaign))**\n",
        "\n",
        "_Boost the profit of a marketing campaign_\n",
        "\n",
        "A response model can provide a significant boost to the efficiency of a marketing campaign by increasing responses or reducing expenses.\n",
        "\n",
        "The objective is to predict who will respond to an offer for a product or service\n",
        "\n",
        "**Dataset Description:**\n",
        "\n",
        "The training dataset contains `2240 samples`. Contains `28 features` and `1 target boolean` variable `\"Response\"` :\n",
        "\n",
        "**Accepted/Responses Campaign**\n",
        "\n",
        "- `AcceptedCmp1` - 1 if customer accepted the offer in the 1st campaign, 0 otherwise\n",
        "- `AcceptedCmp2` - 1 if customer accepted the offer in the 2nd campaign, 0 otherwise\n",
        "- `AcceptedCmp3` - 1 if customer accepted the offer in the 3rd campaign, 0 otherwise\n",
        "- `AcceptedCmp4` - 1 if customer accepted the offer in the 4th campaign, 0 otherwise\n",
        "- `AcceptedCmp5` - 1 if customer accepted the offer in the 5th campaign, 0 otherwise\n",
        "- `Response (target)` - 1 if customer accepted the offer in the last campaign, 0 otherwise\n",
        "- `Complain` - 1 if customer complained in the previous 2 years\n",
        "\n",
        "**Customer Information**\n",
        "\n",
        "- `ID` - Customer's id\n",
        "- `Year_Birth` - Customer's year of birth\n",
        "- `Education` - customer’s level of education\n",
        "- `Marital` - customer’s marital status\n",
        "- `Kidhome` - number of small children in customer’s household\n",
        "- `Teenhome` - number of teenagers in customer’s household\n",
        "- `Income` - customer’s yearly household income\n",
        "- `DtCustomer` - date of customer’s enrolment with the company\n",
        "- `Recency` - number of days since the last purchase\n",
        "\n",
        "**Sales Product Type**\n",
        "\n",
        "- `MntFishProducts` - amount spent on fish products in the last 2 years\n",
        "- `MntMeatProducts` - amount spent on meat products in the last 2 years\n",
        "- `MntFruits` - amount spent on fruits products in the last 2 years\n",
        "- `MntSweetProducts` - amount spent on sweet products in the last 2 years\n",
        "- `MntWines` - amount spent on wine products in the last 2 years\n",
        "- `MntGoldProds` - amount spent on gold products in the last 2 years\n",
        "\n",
        "**Number of Purchases per Type**\n",
        "\n",
        "- `NumDealsPurchases` - number of purchases made with discount\n",
        "- `NumCatalogPurchases` - number of purchases made using catalogue\n",
        "- `NumStorePurchases` - number of purchases made directly in stores\n",
        "- `NumWebPurchases` - number of purchases made through company’s web site\n",
        "- `NumWebVisitsMonth` - number of visits to company’s web site in the last month\n",
        "\n",
        "**Cost and Revenue**\n",
        "\n",
        "- `Z_CostContact = 3` (Cost to contact a customer)\n",
        "- `Z_Revenue = 11` (Revenue after client accepting campaign)\n"
      ],
      "metadata": {
        "id": "e-Ao0mWP0GDB"
      }
    },
    {
      "cell_type": "markdown",
      "source": [
        "## **💉 Import Libraries 💉**"
      ],
      "metadata": {
        "id": "3BSqVxbr01SU"
      }
    },
    {
      "cell_type": "code",
      "execution_count": 5,
      "metadata": {
        "id": "GCfRF8RbjEdU"
      },
      "outputs": [],
      "source": [
        "import numpy as np\n",
        "import pandas as pd\n",
        "import matplotlib.pyplot as plt\n",
        "import seaborn as sns\n",
        "import warnings\n",
        "pd.set_option('display.max_columns', None)\n",
        "warnings.filterwarnings('ignore')\n",
        "%matplotlib inline"
      ]
    },
    {
      "cell_type": "code",
      "source": [
        "from google.colab import drive\n",
        "drive.mount('/content/drive')"
      ],
      "metadata": {
        "colab": {
          "base_uri": "https://localhost:8080/"
        },
        "id": "QikPGSw4xoDN",
        "outputId": "4bf16734-dc73-4b7b-f00b-1402d0b2c108"
      },
      "execution_count": 2,
      "outputs": [
        {
          "output_type": "stream",
          "name": "stdout",
          "text": [
            "Mounted at /content/drive\n"
          ]
        }
      ]
    },
    {
      "cell_type": "code",
      "source": [
        "data = pd.read_excel('/content/drive/MyDrive/marketing campaign /data/marketing_campaign.xlsx')"
      ],
      "metadata": {
        "id": "yakz6A0YxrmA"
      },
      "execution_count": 6,
      "outputs": []
    },
    {
      "cell_type": "code",
      "source": [
        "data.head()"
      ],
      "metadata": {
        "colab": {
          "base_uri": "https://localhost:8080/",
          "height": 226
        },
        "id": "dwF8CFhqyBVE",
        "outputId": "955cd602-bb2c-4781-8274-aa11ab0ad70f"
      },
      "execution_count": 7,
      "outputs": [
        {
          "output_type": "execute_result",
          "data": {
            "text/plain": [
              "     ID  Year_Birth   Education Marital_Status   Income  Kidhome  Teenhome  \\\n",
              "0  5524        1957  Graduation         Single  58138.0        0         0   \n",
              "1  2174        1954  Graduation         Single  46344.0        1         1   \n",
              "2  4141        1965  Graduation       Together  71613.0        0         0   \n",
              "3  6182        1984  Graduation       Together  26646.0        1         0   \n",
              "4  5324        1981         PhD        Married  58293.0        1         0   \n",
              "\n",
              "  Dt_Customer  Recency  MntWines  MntFruits  MntMeatProducts  MntFishProducts  \\\n",
              "0  2012-09-04       58       635         88              546              172   \n",
              "1  2014-03-08       38        11          1                6                2   \n",
              "2  2013-08-21       26       426         49              127              111   \n",
              "3  2014-02-10       26        11          4               20               10   \n",
              "4  2014-01-19       94       173         43              118               46   \n",
              "\n",
              "   MntSweetProducts  MntGoldProds  NumDealsPurchases  NumWebPurchases  \\\n",
              "0                88            88                  3                8   \n",
              "1                 1             6                  2                1   \n",
              "2                21            42                  1                8   \n",
              "3                 3             5                  2                2   \n",
              "4                27            15                  5                5   \n",
              "\n",
              "   NumCatalogPurchases  NumStorePurchases  NumWebVisitsMonth  AcceptedCmp3  \\\n",
              "0                   10                  4                  7             0   \n",
              "1                    1                  2                  5             0   \n",
              "2                    2                 10                  4             0   \n",
              "3                    0                  4                  6             0   \n",
              "4                    3                  6                  5             0   \n",
              "\n",
              "   AcceptedCmp4  AcceptedCmp5  AcceptedCmp1  AcceptedCmp2  Complain  \\\n",
              "0             0             0             0             0         0   \n",
              "1             0             0             0             0         0   \n",
              "2             0             0             0             0         0   \n",
              "3             0             0             0             0         0   \n",
              "4             0             0             0             0         0   \n",
              "\n",
              "   Z_CostContact  Z_Revenue  Response  \n",
              "0              3         11         1  \n",
              "1              3         11         0  \n",
              "2              3         11         0  \n",
              "3              3         11         0  \n",
              "4              3         11         0  "
            ],
            "text/html": [
              "\n",
              "  <div id=\"df-5040f5e3-9e13-4682-9c40-d128279d6aaa\" class=\"colab-df-container\">\n",
              "    <div>\n",
              "<style scoped>\n",
              "    .dataframe tbody tr th:only-of-type {\n",
              "        vertical-align: middle;\n",
              "    }\n",
              "\n",
              "    .dataframe tbody tr th {\n",
              "        vertical-align: top;\n",
              "    }\n",
              "\n",
              "    .dataframe thead th {\n",
              "        text-align: right;\n",
              "    }\n",
              "</style>\n",
              "<table border=\"1\" class=\"dataframe\">\n",
              "  <thead>\n",
              "    <tr style=\"text-align: right;\">\n",
              "      <th></th>\n",
              "      <th>ID</th>\n",
              "      <th>Year_Birth</th>\n",
              "      <th>Education</th>\n",
              "      <th>Marital_Status</th>\n",
              "      <th>Income</th>\n",
              "      <th>Kidhome</th>\n",
              "      <th>Teenhome</th>\n",
              "      <th>Dt_Customer</th>\n",
              "      <th>Recency</th>\n",
              "      <th>MntWines</th>\n",
              "      <th>MntFruits</th>\n",
              "      <th>MntMeatProducts</th>\n",
              "      <th>MntFishProducts</th>\n",
              "      <th>MntSweetProducts</th>\n",
              "      <th>MntGoldProds</th>\n",
              "      <th>NumDealsPurchases</th>\n",
              "      <th>NumWebPurchases</th>\n",
              "      <th>NumCatalogPurchases</th>\n",
              "      <th>NumStorePurchases</th>\n",
              "      <th>NumWebVisitsMonth</th>\n",
              "      <th>AcceptedCmp3</th>\n",
              "      <th>AcceptedCmp4</th>\n",
              "      <th>AcceptedCmp5</th>\n",
              "      <th>AcceptedCmp1</th>\n",
              "      <th>AcceptedCmp2</th>\n",
              "      <th>Complain</th>\n",
              "      <th>Z_CostContact</th>\n",
              "      <th>Z_Revenue</th>\n",
              "      <th>Response</th>\n",
              "    </tr>\n",
              "  </thead>\n",
              "  <tbody>\n",
              "    <tr>\n",
              "      <th>0</th>\n",
              "      <td>5524</td>\n",
              "      <td>1957</td>\n",
              "      <td>Graduation</td>\n",
              "      <td>Single</td>\n",
              "      <td>58138.0</td>\n",
              "      <td>0</td>\n",
              "      <td>0</td>\n",
              "      <td>2012-09-04</td>\n",
              "      <td>58</td>\n",
              "      <td>635</td>\n",
              "      <td>88</td>\n",
              "      <td>546</td>\n",
              "      <td>172</td>\n",
              "      <td>88</td>\n",
              "      <td>88</td>\n",
              "      <td>3</td>\n",
              "      <td>8</td>\n",
              "      <td>10</td>\n",
              "      <td>4</td>\n",
              "      <td>7</td>\n",
              "      <td>0</td>\n",
              "      <td>0</td>\n",
              "      <td>0</td>\n",
              "      <td>0</td>\n",
              "      <td>0</td>\n",
              "      <td>0</td>\n",
              "      <td>3</td>\n",
              "      <td>11</td>\n",
              "      <td>1</td>\n",
              "    </tr>\n",
              "    <tr>\n",
              "      <th>1</th>\n",
              "      <td>2174</td>\n",
              "      <td>1954</td>\n",
              "      <td>Graduation</td>\n",
              "      <td>Single</td>\n",
              "      <td>46344.0</td>\n",
              "      <td>1</td>\n",
              "      <td>1</td>\n",
              "      <td>2014-03-08</td>\n",
              "      <td>38</td>\n",
              "      <td>11</td>\n",
              "      <td>1</td>\n",
              "      <td>6</td>\n",
              "      <td>2</td>\n",
              "      <td>1</td>\n",
              "      <td>6</td>\n",
              "      <td>2</td>\n",
              "      <td>1</td>\n",
              "      <td>1</td>\n",
              "      <td>2</td>\n",
              "      <td>5</td>\n",
              "      <td>0</td>\n",
              "      <td>0</td>\n",
              "      <td>0</td>\n",
              "      <td>0</td>\n",
              "      <td>0</td>\n",
              "      <td>0</td>\n",
              "      <td>3</td>\n",
              "      <td>11</td>\n",
              "      <td>0</td>\n",
              "    </tr>\n",
              "    <tr>\n",
              "      <th>2</th>\n",
              "      <td>4141</td>\n",
              "      <td>1965</td>\n",
              "      <td>Graduation</td>\n",
              "      <td>Together</td>\n",
              "      <td>71613.0</td>\n",
              "      <td>0</td>\n",
              "      <td>0</td>\n",
              "      <td>2013-08-21</td>\n",
              "      <td>26</td>\n",
              "      <td>426</td>\n",
              "      <td>49</td>\n",
              "      <td>127</td>\n",
              "      <td>111</td>\n",
              "      <td>21</td>\n",
              "      <td>42</td>\n",
              "      <td>1</td>\n",
              "      <td>8</td>\n",
              "      <td>2</td>\n",
              "      <td>10</td>\n",
              "      <td>4</td>\n",
              "      <td>0</td>\n",
              "      <td>0</td>\n",
              "      <td>0</td>\n",
              "      <td>0</td>\n",
              "      <td>0</td>\n",
              "      <td>0</td>\n",
              "      <td>3</td>\n",
              "      <td>11</td>\n",
              "      <td>0</td>\n",
              "    </tr>\n",
              "    <tr>\n",
              "      <th>3</th>\n",
              "      <td>6182</td>\n",
              "      <td>1984</td>\n",
              "      <td>Graduation</td>\n",
              "      <td>Together</td>\n",
              "      <td>26646.0</td>\n",
              "      <td>1</td>\n",
              "      <td>0</td>\n",
              "      <td>2014-02-10</td>\n",
              "      <td>26</td>\n",
              "      <td>11</td>\n",
              "      <td>4</td>\n",
              "      <td>20</td>\n",
              "      <td>10</td>\n",
              "      <td>3</td>\n",
              "      <td>5</td>\n",
              "      <td>2</td>\n",
              "      <td>2</td>\n",
              "      <td>0</td>\n",
              "      <td>4</td>\n",
              "      <td>6</td>\n",
              "      <td>0</td>\n",
              "      <td>0</td>\n",
              "      <td>0</td>\n",
              "      <td>0</td>\n",
              "      <td>0</td>\n",
              "      <td>0</td>\n",
              "      <td>3</td>\n",
              "      <td>11</td>\n",
              "      <td>0</td>\n",
              "    </tr>\n",
              "    <tr>\n",
              "      <th>4</th>\n",
              "      <td>5324</td>\n",
              "      <td>1981</td>\n",
              "      <td>PhD</td>\n",
              "      <td>Married</td>\n",
              "      <td>58293.0</td>\n",
              "      <td>1</td>\n",
              "      <td>0</td>\n",
              "      <td>2014-01-19</td>\n",
              "      <td>94</td>\n",
              "      <td>173</td>\n",
              "      <td>43</td>\n",
              "      <td>118</td>\n",
              "      <td>46</td>\n",
              "      <td>27</td>\n",
              "      <td>15</td>\n",
              "      <td>5</td>\n",
              "      <td>5</td>\n",
              "      <td>3</td>\n",
              "      <td>6</td>\n",
              "      <td>5</td>\n",
              "      <td>0</td>\n",
              "      <td>0</td>\n",
              "      <td>0</td>\n",
              "      <td>0</td>\n",
              "      <td>0</td>\n",
              "      <td>0</td>\n",
              "      <td>3</td>\n",
              "      <td>11</td>\n",
              "      <td>0</td>\n",
              "    </tr>\n",
              "  </tbody>\n",
              "</table>\n",
              "</div>\n",
              "    <div class=\"colab-df-buttons\">\n",
              "\n",
              "  <div class=\"colab-df-container\">\n",
              "    <button class=\"colab-df-convert\" onclick=\"convertToInteractive('df-5040f5e3-9e13-4682-9c40-d128279d6aaa')\"\n",
              "            title=\"Convert this dataframe to an interactive table.\"\n",
              "            style=\"display:none;\">\n",
              "\n",
              "  <svg xmlns=\"http://www.w3.org/2000/svg\" height=\"24px\" viewBox=\"0 -960 960 960\">\n",
              "    <path d=\"M120-120v-720h720v720H120Zm60-500h600v-160H180v160Zm220 220h160v-160H400v160Zm0 220h160v-160H400v160ZM180-400h160v-160H180v160Zm440 0h160v-160H620v160ZM180-180h160v-160H180v160Zm440 0h160v-160H620v160Z\"/>\n",
              "  </svg>\n",
              "    </button>\n",
              "\n",
              "  <style>\n",
              "    .colab-df-container {\n",
              "      display:flex;\n",
              "      gap: 12px;\n",
              "    }\n",
              "\n",
              "    .colab-df-convert {\n",
              "      background-color: #E8F0FE;\n",
              "      border: none;\n",
              "      border-radius: 50%;\n",
              "      cursor: pointer;\n",
              "      display: none;\n",
              "      fill: #1967D2;\n",
              "      height: 32px;\n",
              "      padding: 0 0 0 0;\n",
              "      width: 32px;\n",
              "    }\n",
              "\n",
              "    .colab-df-convert:hover {\n",
              "      background-color: #E2EBFA;\n",
              "      box-shadow: 0px 1px 2px rgba(60, 64, 67, 0.3), 0px 1px 3px 1px rgba(60, 64, 67, 0.15);\n",
              "      fill: #174EA6;\n",
              "    }\n",
              "\n",
              "    .colab-df-buttons div {\n",
              "      margin-bottom: 4px;\n",
              "    }\n",
              "\n",
              "    [theme=dark] .colab-df-convert {\n",
              "      background-color: #3B4455;\n",
              "      fill: #D2E3FC;\n",
              "    }\n",
              "\n",
              "    [theme=dark] .colab-df-convert:hover {\n",
              "      background-color: #434B5C;\n",
              "      box-shadow: 0px 1px 3px 1px rgba(0, 0, 0, 0.15);\n",
              "      filter: drop-shadow(0px 1px 2px rgba(0, 0, 0, 0.3));\n",
              "      fill: #FFFFFF;\n",
              "    }\n",
              "  </style>\n",
              "\n",
              "    <script>\n",
              "      const buttonEl =\n",
              "        document.querySelector('#df-5040f5e3-9e13-4682-9c40-d128279d6aaa button.colab-df-convert');\n",
              "      buttonEl.style.display =\n",
              "        google.colab.kernel.accessAllowed ? 'block' : 'none';\n",
              "\n",
              "      async function convertToInteractive(key) {\n",
              "        const element = document.querySelector('#df-5040f5e3-9e13-4682-9c40-d128279d6aaa');\n",
              "        const dataTable =\n",
              "          await google.colab.kernel.invokeFunction('convertToInteractive',\n",
              "                                                    [key], {});\n",
              "        if (!dataTable) return;\n",
              "\n",
              "        const docLinkHtml = 'Like what you see? Visit the ' +\n",
              "          '<a target=\"_blank\" href=https://colab.research.google.com/notebooks/data_table.ipynb>data table notebook</a>'\n",
              "          + ' to learn more about interactive tables.';\n",
              "        element.innerHTML = '';\n",
              "        dataTable['output_type'] = 'display_data';\n",
              "        await google.colab.output.renderOutput(dataTable, element);\n",
              "        const docLink = document.createElement('div');\n",
              "        docLink.innerHTML = docLinkHtml;\n",
              "        element.appendChild(docLink);\n",
              "      }\n",
              "    </script>\n",
              "  </div>\n",
              "\n",
              "\n",
              "<div id=\"df-02997baa-acf0-4a9e-95da-7e7455e75a4f\">\n",
              "  <button class=\"colab-df-quickchart\" onclick=\"quickchart('df-02997baa-acf0-4a9e-95da-7e7455e75a4f')\"\n",
              "            title=\"Suggest charts\"\n",
              "            style=\"display:none;\">\n",
              "\n",
              "<svg xmlns=\"http://www.w3.org/2000/svg\" height=\"24px\"viewBox=\"0 0 24 24\"\n",
              "     width=\"24px\">\n",
              "    <g>\n",
              "        <path d=\"M19 3H5c-1.1 0-2 .9-2 2v14c0 1.1.9 2 2 2h14c1.1 0 2-.9 2-2V5c0-1.1-.9-2-2-2zM9 17H7v-7h2v7zm4 0h-2V7h2v10zm4 0h-2v-4h2v4z\"/>\n",
              "    </g>\n",
              "</svg>\n",
              "  </button>\n",
              "\n",
              "<style>\n",
              "  .colab-df-quickchart {\n",
              "      --bg-color: #E8F0FE;\n",
              "      --fill-color: #1967D2;\n",
              "      --hover-bg-color: #E2EBFA;\n",
              "      --hover-fill-color: #174EA6;\n",
              "      --disabled-fill-color: #AAA;\n",
              "      --disabled-bg-color: #DDD;\n",
              "  }\n",
              "\n",
              "  [theme=dark] .colab-df-quickchart {\n",
              "      --bg-color: #3B4455;\n",
              "      --fill-color: #D2E3FC;\n",
              "      --hover-bg-color: #434B5C;\n",
              "      --hover-fill-color: #FFFFFF;\n",
              "      --disabled-bg-color: #3B4455;\n",
              "      --disabled-fill-color: #666;\n",
              "  }\n",
              "\n",
              "  .colab-df-quickchart {\n",
              "    background-color: var(--bg-color);\n",
              "    border: none;\n",
              "    border-radius: 50%;\n",
              "    cursor: pointer;\n",
              "    display: none;\n",
              "    fill: var(--fill-color);\n",
              "    height: 32px;\n",
              "    padding: 0;\n",
              "    width: 32px;\n",
              "  }\n",
              "\n",
              "  .colab-df-quickchart:hover {\n",
              "    background-color: var(--hover-bg-color);\n",
              "    box-shadow: 0 1px 2px rgba(60, 64, 67, 0.3), 0 1px 3px 1px rgba(60, 64, 67, 0.15);\n",
              "    fill: var(--button-hover-fill-color);\n",
              "  }\n",
              "\n",
              "  .colab-df-quickchart-complete:disabled,\n",
              "  .colab-df-quickchart-complete:disabled:hover {\n",
              "    background-color: var(--disabled-bg-color);\n",
              "    fill: var(--disabled-fill-color);\n",
              "    box-shadow: none;\n",
              "  }\n",
              "\n",
              "  .colab-df-spinner {\n",
              "    border: 2px solid var(--fill-color);\n",
              "    border-color: transparent;\n",
              "    border-bottom-color: var(--fill-color);\n",
              "    animation:\n",
              "      spin 1s steps(1) infinite;\n",
              "  }\n",
              "\n",
              "  @keyframes spin {\n",
              "    0% {\n",
              "      border-color: transparent;\n",
              "      border-bottom-color: var(--fill-color);\n",
              "      border-left-color: var(--fill-color);\n",
              "    }\n",
              "    20% {\n",
              "      border-color: transparent;\n",
              "      border-left-color: var(--fill-color);\n",
              "      border-top-color: var(--fill-color);\n",
              "    }\n",
              "    30% {\n",
              "      border-color: transparent;\n",
              "      border-left-color: var(--fill-color);\n",
              "      border-top-color: var(--fill-color);\n",
              "      border-right-color: var(--fill-color);\n",
              "    }\n",
              "    40% {\n",
              "      border-color: transparent;\n",
              "      border-right-color: var(--fill-color);\n",
              "      border-top-color: var(--fill-color);\n",
              "    }\n",
              "    60% {\n",
              "      border-color: transparent;\n",
              "      border-right-color: var(--fill-color);\n",
              "    }\n",
              "    80% {\n",
              "      border-color: transparent;\n",
              "      border-right-color: var(--fill-color);\n",
              "      border-bottom-color: var(--fill-color);\n",
              "    }\n",
              "    90% {\n",
              "      border-color: transparent;\n",
              "      border-bottom-color: var(--fill-color);\n",
              "    }\n",
              "  }\n",
              "</style>\n",
              "\n",
              "  <script>\n",
              "    async function quickchart(key) {\n",
              "      const quickchartButtonEl =\n",
              "        document.querySelector('#' + key + ' button');\n",
              "      quickchartButtonEl.disabled = true;  // To prevent multiple clicks.\n",
              "      quickchartButtonEl.classList.add('colab-df-spinner');\n",
              "      try {\n",
              "        const charts = await google.colab.kernel.invokeFunction(\n",
              "            'suggestCharts', [key], {});\n",
              "      } catch (error) {\n",
              "        console.error('Error during call to suggestCharts:', error);\n",
              "      }\n",
              "      quickchartButtonEl.classList.remove('colab-df-spinner');\n",
              "      quickchartButtonEl.classList.add('colab-df-quickchart-complete');\n",
              "    }\n",
              "    (() => {\n",
              "      let quickchartButtonEl =\n",
              "        document.querySelector('#df-02997baa-acf0-4a9e-95da-7e7455e75a4f button');\n",
              "      quickchartButtonEl.style.display =\n",
              "        google.colab.kernel.accessAllowed ? 'block' : 'none';\n",
              "    })();\n",
              "  </script>\n",
              "</div>\n",
              "\n",
              "    </div>\n",
              "  </div>\n"
            ],
            "application/vnd.google.colaboratory.intrinsic+json": {
              "type": "dataframe",
              "variable_name": "data"
            }
          },
          "metadata": {},
          "execution_count": 7
        }
      ]
    },
    {
      "cell_type": "markdown",
      "source": [
        "# **💡 Data Understanding 💡**"
      ],
      "metadata": {
        "id": "rb4lR6W71zSE"
      }
    },
    {
      "cell_type": "markdown",
      "source": [
        "## **📌 Explore Datasets**"
      ],
      "metadata": {
        "id": "-ojb9r-5126H"
      }
    },
    {
      "cell_type": "markdown",
      "source": [
        "### **Basic Datasets Information**"
      ],
      "metadata": {
        "id": "JHwx7Yr415qt"
      }
    },
    {
      "cell_type": "code",
      "source": [
        "# shape of the data\n",
        "data.shape"
      ],
      "metadata": {
        "colab": {
          "base_uri": "https://localhost:8080/"
        },
        "id": "ZSRenJlJyDFd",
        "outputId": "969d247b-f0e4-4918-fb9f-2e7c4f0fa101"
      },
      "execution_count": 8,
      "outputs": [
        {
          "output_type": "execute_result",
          "data": {
            "text/plain": [
              "(2240, 29)"
            ]
          },
          "metadata": {},
          "execution_count": 8
        }
      ]
    },
    {
      "cell_type": "code",
      "source": [
        "# size\n",
        "data.size\n"
      ],
      "metadata": {
        "colab": {
          "base_uri": "https://localhost:8080/"
        },
        "id": "703nsj872DuR",
        "outputId": "de3acc18-2ebf-4b22-f4e5-918c13e1dc78"
      },
      "execution_count": 9,
      "outputs": [
        {
          "output_type": "execute_result",
          "data": {
            "text/plain": [
              "64960"
            ]
          },
          "metadata": {},
          "execution_count": 9
        }
      ]
    },
    {
      "cell_type": "code",
      "source": [
        "# dimensions\n",
        "data.ndim"
      ],
      "metadata": {
        "colab": {
          "base_uri": "https://localhost:8080/"
        },
        "id": "Yfw59pTY2Evg",
        "outputId": "55b3bc92-526c-4b61-e274-6d73202435a2"
      },
      "execution_count": 10,
      "outputs": [
        {
          "output_type": "execute_result",
          "data": {
            "text/plain": [
              "2"
            ]
          },
          "metadata": {},
          "execution_count": 10
        }
      ]
    },
    {
      "cell_type": "code",
      "source": [
        "# columns\n",
        "data.columns"
      ],
      "metadata": {
        "colab": {
          "base_uri": "https://localhost:8080/"
        },
        "id": "-WDbOTxD2UB8",
        "outputId": "f6fe33d9-5e75-43eb-f7da-ebb801f1bfff"
      },
      "execution_count": 12,
      "outputs": [
        {
          "output_type": "execute_result",
          "data": {
            "text/plain": [
              "Index(['ID', 'Year_Birth', 'Education', 'Marital_Status', 'Income', 'Kidhome',\n",
              "       'Teenhome', 'Dt_Customer', 'Recency', 'MntWines', 'MntFruits',\n",
              "       'MntMeatProducts', 'MntFishProducts', 'MntSweetProducts',\n",
              "       'MntGoldProds', 'NumDealsPurchases', 'NumWebPurchases',\n",
              "       'NumCatalogPurchases', 'NumStorePurchases', 'NumWebVisitsMonth',\n",
              "       'AcceptedCmp3', 'AcceptedCmp4', 'AcceptedCmp5', 'AcceptedCmp1',\n",
              "       'AcceptedCmp2', 'Complain', 'Z_CostContact', 'Z_Revenue', 'Response'],\n",
              "      dtype='object')"
            ]
          },
          "metadata": {},
          "execution_count": 12
        }
      ]
    },
    {
      "cell_type": "code",
      "source": [
        "# get the info of each columns\n",
        "data.info()"
      ],
      "metadata": {
        "colab": {
          "base_uri": "https://localhost:8080/"
        },
        "id": "7OLt4R7u2Lbb",
        "outputId": "037b88f1-0d79-48ee-d75b-7ea70d00bdac"
      },
      "execution_count": 11,
      "outputs": [
        {
          "output_type": "stream",
          "name": "stdout",
          "text": [
            "<class 'pandas.core.frame.DataFrame'>\n",
            "RangeIndex: 2240 entries, 0 to 2239\n",
            "Data columns (total 29 columns):\n",
            " #   Column               Non-Null Count  Dtype  \n",
            "---  ------               --------------  -----  \n",
            " 0   ID                   2240 non-null   int64  \n",
            " 1   Year_Birth           2240 non-null   int64  \n",
            " 2   Education            2240 non-null   object \n",
            " 3   Marital_Status       2240 non-null   object \n",
            " 4   Income               2216 non-null   float64\n",
            " 5   Kidhome              2240 non-null   int64  \n",
            " 6   Teenhome             2240 non-null   int64  \n",
            " 7   Dt_Customer          2240 non-null   object \n",
            " 8   Recency              2240 non-null   int64  \n",
            " 9   MntWines             2240 non-null   int64  \n",
            " 10  MntFruits            2240 non-null   int64  \n",
            " 11  MntMeatProducts      2240 non-null   int64  \n",
            " 12  MntFishProducts      2240 non-null   int64  \n",
            " 13  MntSweetProducts     2240 non-null   int64  \n",
            " 14  MntGoldProds         2240 non-null   int64  \n",
            " 15  NumDealsPurchases    2240 non-null   int64  \n",
            " 16  NumWebPurchases      2240 non-null   int64  \n",
            " 17  NumCatalogPurchases  2240 non-null   int64  \n",
            " 18  NumStorePurchases    2240 non-null   int64  \n",
            " 19  NumWebVisitsMonth    2240 non-null   int64  \n",
            " 20  AcceptedCmp3         2240 non-null   int64  \n",
            " 21  AcceptedCmp4         2240 non-null   int64  \n",
            " 22  AcceptedCmp5         2240 non-null   int64  \n",
            " 23  AcceptedCmp1         2240 non-null   int64  \n",
            " 24  AcceptedCmp2         2240 non-null   int64  \n",
            " 25  Complain             2240 non-null   int64  \n",
            " 26  Z_CostContact        2240 non-null   int64  \n",
            " 27  Z_Revenue            2240 non-null   int64  \n",
            " 28  Response             2240 non-null   int64  \n",
            "dtypes: float64(1), int64(25), object(3)\n",
            "memory usage: 507.6+ KB\n"
          ]
        }
      ]
    },
    {
      "cell_type": "markdown",
      "source": [
        "**Observations:**\n",
        "\n",
        "- Dataset having `29 columns` and `2240 rows` data\n",
        "- there are three type of data present : `int64, object, float64`\n",
        "- column `Income` having 2216 not null, and `24 null / missing values`\n",
        "\n",
        "- Since the dataset is not very large the impution of missing value perform during data preprocessing\n",
        " - Imputation using the Median, as it is highly positively skewed.\n",
        " - Multivariate approaches such as MICE Imputation, KNN Imputer, etc."
      ],
      "metadata": {
        "id": "qZfL8bZy2k-o"
      }
    },
    {
      "cell_type": "code",
      "source": [
        "### Checking Duplicate Rows\n",
        "data.duplicated().sum()"
      ],
      "metadata": {
        "colab": {
          "base_uri": "https://localhost:8080/"
        },
        "id": "cr3ZUUpb2Q_B",
        "outputId": "3cae54f0-611e-4d24-f42f-bd7671c9ec23"
      },
      "execution_count": 14,
      "outputs": [
        {
          "output_type": "execute_result",
          "data": {
            "text/plain": [
              "0"
            ]
          },
          "metadata": {},
          "execution_count": 14
        }
      ]
    },
    {
      "cell_type": "code",
      "source": [
        "data[data.duplicated()]"
      ],
      "metadata": {
        "colab": {
          "base_uri": "https://localhost:8080/",
          "height": 73
        },
        "id": "xM8vd1g74kdu",
        "outputId": "ae559697-63d2-484b-eab8-0215cb3c819c"
      },
      "execution_count": 16,
      "outputs": [
        {
          "output_type": "execute_result",
          "data": {
            "text/plain": [
              "Empty DataFrame\n",
              "Columns: [ID, Year_Birth, Education, Marital_Status, Income, Kidhome, Teenhome, Dt_Customer, Recency, MntWines, MntFruits, MntMeatProducts, MntFishProducts, MntSweetProducts, MntGoldProds, NumDealsPurchases, NumWebPurchases, NumCatalogPurchases, NumStorePurchases, NumWebVisitsMonth, AcceptedCmp3, AcceptedCmp4, AcceptedCmp5, AcceptedCmp1, AcceptedCmp2, Complain, Z_CostContact, Z_Revenue, Response]\n",
              "Index: []"
            ],
            "text/html": [
              "\n",
              "  <div id=\"df-9b7800c0-7e2f-4800-9ebc-e46572aaa8b0\" class=\"colab-df-container\">\n",
              "    <div>\n",
              "<style scoped>\n",
              "    .dataframe tbody tr th:only-of-type {\n",
              "        vertical-align: middle;\n",
              "    }\n",
              "\n",
              "    .dataframe tbody tr th {\n",
              "        vertical-align: top;\n",
              "    }\n",
              "\n",
              "    .dataframe thead th {\n",
              "        text-align: right;\n",
              "    }\n",
              "</style>\n",
              "<table border=\"1\" class=\"dataframe\">\n",
              "  <thead>\n",
              "    <tr style=\"text-align: right;\">\n",
              "      <th></th>\n",
              "      <th>ID</th>\n",
              "      <th>Year_Birth</th>\n",
              "      <th>Education</th>\n",
              "      <th>Marital_Status</th>\n",
              "      <th>Income</th>\n",
              "      <th>Kidhome</th>\n",
              "      <th>Teenhome</th>\n",
              "      <th>Dt_Customer</th>\n",
              "      <th>Recency</th>\n",
              "      <th>MntWines</th>\n",
              "      <th>MntFruits</th>\n",
              "      <th>MntMeatProducts</th>\n",
              "      <th>MntFishProducts</th>\n",
              "      <th>MntSweetProducts</th>\n",
              "      <th>MntGoldProds</th>\n",
              "      <th>NumDealsPurchases</th>\n",
              "      <th>NumWebPurchases</th>\n",
              "      <th>NumCatalogPurchases</th>\n",
              "      <th>NumStorePurchases</th>\n",
              "      <th>NumWebVisitsMonth</th>\n",
              "      <th>AcceptedCmp3</th>\n",
              "      <th>AcceptedCmp4</th>\n",
              "      <th>AcceptedCmp5</th>\n",
              "      <th>AcceptedCmp1</th>\n",
              "      <th>AcceptedCmp2</th>\n",
              "      <th>Complain</th>\n",
              "      <th>Z_CostContact</th>\n",
              "      <th>Z_Revenue</th>\n",
              "      <th>Response</th>\n",
              "    </tr>\n",
              "  </thead>\n",
              "  <tbody>\n",
              "  </tbody>\n",
              "</table>\n",
              "</div>\n",
              "    <div class=\"colab-df-buttons\">\n",
              "\n",
              "  <div class=\"colab-df-container\">\n",
              "    <button class=\"colab-df-convert\" onclick=\"convertToInteractive('df-9b7800c0-7e2f-4800-9ebc-e46572aaa8b0')\"\n",
              "            title=\"Convert this dataframe to an interactive table.\"\n",
              "            style=\"display:none;\">\n",
              "\n",
              "  <svg xmlns=\"http://www.w3.org/2000/svg\" height=\"24px\" viewBox=\"0 -960 960 960\">\n",
              "    <path d=\"M120-120v-720h720v720H120Zm60-500h600v-160H180v160Zm220 220h160v-160H400v160Zm0 220h160v-160H400v160ZM180-400h160v-160H180v160Zm440 0h160v-160H620v160ZM180-180h160v-160H180v160Zm440 0h160v-160H620v160Z\"/>\n",
              "  </svg>\n",
              "    </button>\n",
              "\n",
              "  <style>\n",
              "    .colab-df-container {\n",
              "      display:flex;\n",
              "      gap: 12px;\n",
              "    }\n",
              "\n",
              "    .colab-df-convert {\n",
              "      background-color: #E8F0FE;\n",
              "      border: none;\n",
              "      border-radius: 50%;\n",
              "      cursor: pointer;\n",
              "      display: none;\n",
              "      fill: #1967D2;\n",
              "      height: 32px;\n",
              "      padding: 0 0 0 0;\n",
              "      width: 32px;\n",
              "    }\n",
              "\n",
              "    .colab-df-convert:hover {\n",
              "      background-color: #E2EBFA;\n",
              "      box-shadow: 0px 1px 2px rgba(60, 64, 67, 0.3), 0px 1px 3px 1px rgba(60, 64, 67, 0.15);\n",
              "      fill: #174EA6;\n",
              "    }\n",
              "\n",
              "    .colab-df-buttons div {\n",
              "      margin-bottom: 4px;\n",
              "    }\n",
              "\n",
              "    [theme=dark] .colab-df-convert {\n",
              "      background-color: #3B4455;\n",
              "      fill: #D2E3FC;\n",
              "    }\n",
              "\n",
              "    [theme=dark] .colab-df-convert:hover {\n",
              "      background-color: #434B5C;\n",
              "      box-shadow: 0px 1px 3px 1px rgba(0, 0, 0, 0.15);\n",
              "      filter: drop-shadow(0px 1px 2px rgba(0, 0, 0, 0.3));\n",
              "      fill: #FFFFFF;\n",
              "    }\n",
              "  </style>\n",
              "\n",
              "    <script>\n",
              "      const buttonEl =\n",
              "        document.querySelector('#df-9b7800c0-7e2f-4800-9ebc-e46572aaa8b0 button.colab-df-convert');\n",
              "      buttonEl.style.display =\n",
              "        google.colab.kernel.accessAllowed ? 'block' : 'none';\n",
              "\n",
              "      async function convertToInteractive(key) {\n",
              "        const element = document.querySelector('#df-9b7800c0-7e2f-4800-9ebc-e46572aaa8b0');\n",
              "        const dataTable =\n",
              "          await google.colab.kernel.invokeFunction('convertToInteractive',\n",
              "                                                    [key], {});\n",
              "        if (!dataTable) return;\n",
              "\n",
              "        const docLinkHtml = 'Like what you see? Visit the ' +\n",
              "          '<a target=\"_blank\" href=https://colab.research.google.com/notebooks/data_table.ipynb>data table notebook</a>'\n",
              "          + ' to learn more about interactive tables.';\n",
              "        element.innerHTML = '';\n",
              "        dataTable['output_type'] = 'display_data';\n",
              "        await google.colab.output.renderOutput(dataTable, element);\n",
              "        const docLink = document.createElement('div');\n",
              "        docLink.innerHTML = docLinkHtml;\n",
              "        element.appendChild(docLink);\n",
              "      }\n",
              "    </script>\n",
              "  </div>\n",
              "\n",
              "\n",
              "    </div>\n",
              "  </div>\n"
            ],
            "application/vnd.google.colaboratory.intrinsic+json": {
              "type": "dataframe"
            }
          },
          "metadata": {},
          "execution_count": 16
        }
      ]
    },
    {
      "cell_type": "code",
      "source": [
        "# Checking Missing Value\n",
        "data.isnull().sum()"
      ],
      "metadata": {
        "colab": {
          "base_uri": "https://localhost:8080/",
          "height": 993
        },
        "id": "FLc24ibn4wFe",
        "outputId": "0f0ead0b-f1c2-4b38-bd28-d323c4409b70"
      },
      "execution_count": 18,
      "outputs": [
        {
          "output_type": "execute_result",
          "data": {
            "text/plain": [
              "ID                      0\n",
              "Year_Birth              0\n",
              "Education               0\n",
              "Marital_Status          0\n",
              "Income                 24\n",
              "Kidhome                 0\n",
              "Teenhome                0\n",
              "Dt_Customer             0\n",
              "Recency                 0\n",
              "MntWines                0\n",
              "MntFruits               0\n",
              "MntMeatProducts         0\n",
              "MntFishProducts         0\n",
              "MntSweetProducts        0\n",
              "MntGoldProds            0\n",
              "NumDealsPurchases       0\n",
              "NumWebPurchases         0\n",
              "NumCatalogPurchases     0\n",
              "NumStorePurchases       0\n",
              "NumWebVisitsMonth       0\n",
              "AcceptedCmp3            0\n",
              "AcceptedCmp4            0\n",
              "AcceptedCmp5            0\n",
              "AcceptedCmp1            0\n",
              "AcceptedCmp2            0\n",
              "Complain                0\n",
              "Z_CostContact           0\n",
              "Z_Revenue               0\n",
              "Response                0\n",
              "dtype: int64"
            ],
            "text/html": [
              "<div>\n",
              "<style scoped>\n",
              "    .dataframe tbody tr th:only-of-type {\n",
              "        vertical-align: middle;\n",
              "    }\n",
              "\n",
              "    .dataframe tbody tr th {\n",
              "        vertical-align: top;\n",
              "    }\n",
              "\n",
              "    .dataframe thead th {\n",
              "        text-align: right;\n",
              "    }\n",
              "</style>\n",
              "<table border=\"1\" class=\"dataframe\">\n",
              "  <thead>\n",
              "    <tr style=\"text-align: right;\">\n",
              "      <th></th>\n",
              "      <th>0</th>\n",
              "    </tr>\n",
              "  </thead>\n",
              "  <tbody>\n",
              "    <tr>\n",
              "      <th>ID</th>\n",
              "      <td>0</td>\n",
              "    </tr>\n",
              "    <tr>\n",
              "      <th>Year_Birth</th>\n",
              "      <td>0</td>\n",
              "    </tr>\n",
              "    <tr>\n",
              "      <th>Education</th>\n",
              "      <td>0</td>\n",
              "    </tr>\n",
              "    <tr>\n",
              "      <th>Marital_Status</th>\n",
              "      <td>0</td>\n",
              "    </tr>\n",
              "    <tr>\n",
              "      <th>Income</th>\n",
              "      <td>24</td>\n",
              "    </tr>\n",
              "    <tr>\n",
              "      <th>Kidhome</th>\n",
              "      <td>0</td>\n",
              "    </tr>\n",
              "    <tr>\n",
              "      <th>Teenhome</th>\n",
              "      <td>0</td>\n",
              "    </tr>\n",
              "    <tr>\n",
              "      <th>Dt_Customer</th>\n",
              "      <td>0</td>\n",
              "    </tr>\n",
              "    <tr>\n",
              "      <th>Recency</th>\n",
              "      <td>0</td>\n",
              "    </tr>\n",
              "    <tr>\n",
              "      <th>MntWines</th>\n",
              "      <td>0</td>\n",
              "    </tr>\n",
              "    <tr>\n",
              "      <th>MntFruits</th>\n",
              "      <td>0</td>\n",
              "    </tr>\n",
              "    <tr>\n",
              "      <th>MntMeatProducts</th>\n",
              "      <td>0</td>\n",
              "    </tr>\n",
              "    <tr>\n",
              "      <th>MntFishProducts</th>\n",
              "      <td>0</td>\n",
              "    </tr>\n",
              "    <tr>\n",
              "      <th>MntSweetProducts</th>\n",
              "      <td>0</td>\n",
              "    </tr>\n",
              "    <tr>\n",
              "      <th>MntGoldProds</th>\n",
              "      <td>0</td>\n",
              "    </tr>\n",
              "    <tr>\n",
              "      <th>NumDealsPurchases</th>\n",
              "      <td>0</td>\n",
              "    </tr>\n",
              "    <tr>\n",
              "      <th>NumWebPurchases</th>\n",
              "      <td>0</td>\n",
              "    </tr>\n",
              "    <tr>\n",
              "      <th>NumCatalogPurchases</th>\n",
              "      <td>0</td>\n",
              "    </tr>\n",
              "    <tr>\n",
              "      <th>NumStorePurchases</th>\n",
              "      <td>0</td>\n",
              "    </tr>\n",
              "    <tr>\n",
              "      <th>NumWebVisitsMonth</th>\n",
              "      <td>0</td>\n",
              "    </tr>\n",
              "    <tr>\n",
              "      <th>AcceptedCmp3</th>\n",
              "      <td>0</td>\n",
              "    </tr>\n",
              "    <tr>\n",
              "      <th>AcceptedCmp4</th>\n",
              "      <td>0</td>\n",
              "    </tr>\n",
              "    <tr>\n",
              "      <th>AcceptedCmp5</th>\n",
              "      <td>0</td>\n",
              "    </tr>\n",
              "    <tr>\n",
              "      <th>AcceptedCmp1</th>\n",
              "      <td>0</td>\n",
              "    </tr>\n",
              "    <tr>\n",
              "      <th>AcceptedCmp2</th>\n",
              "      <td>0</td>\n",
              "    </tr>\n",
              "    <tr>\n",
              "      <th>Complain</th>\n",
              "      <td>0</td>\n",
              "    </tr>\n",
              "    <tr>\n",
              "      <th>Z_CostContact</th>\n",
              "      <td>0</td>\n",
              "    </tr>\n",
              "    <tr>\n",
              "      <th>Z_Revenue</th>\n",
              "      <td>0</td>\n",
              "    </tr>\n",
              "    <tr>\n",
              "      <th>Response</th>\n",
              "      <td>0</td>\n",
              "    </tr>\n",
              "  </tbody>\n",
              "</table>\n",
              "</div><br><label><b>dtype:</b> int64</label>"
            ]
          },
          "metadata": {},
          "execution_count": 18
        }
      ]
    },
    {
      "cell_type": "code",
      "source": [
        "print('Missing values status:', data.isnull().values.any())\n",
        "nvc = pd.DataFrame(data.isnull().sum().sort_values(), columns=['Total Null Values'])\n",
        "nvc['Percentage'] = (nvc['Total Null Values']/data.shape[0])*100\n",
        "nvc[\"Data Type\"] = [data[col].dtype for col in data.columns]\n",
        "nvc.sort_values(by=[\"Total Null Values\", \"Percentage\"], ascending=False, inplace=True)\n",
        "nvc.style.background_gradient(cmap='Blues')"
      ],
      "metadata": {
        "colab": {
          "base_uri": "https://localhost:8080/",
          "height": 976
        },
        "id": "vWz5laYA5Bmq",
        "outputId": "68574293-4d72-4db8-8341-d419d850e9b2"
      },
      "execution_count": 20,
      "outputs": [
        {
          "output_type": "stream",
          "name": "stdout",
          "text": [
            "Missing values status: True\n"
          ]
        },
        {
          "output_type": "execute_result",
          "data": {
            "text/plain": [
              "<pandas.io.formats.style.Styler at 0x7f3a9c490550>"
            ],
            "text/html": [
              "<style type=\"text/css\">\n",
              "#T_8dc82_row0_col0, #T_8dc82_row0_col1 {\n",
              "  background-color: #08306b;\n",
              "  color: #f1f1f1;\n",
              "}\n",
              "#T_8dc82_row1_col0, #T_8dc82_row1_col1, #T_8dc82_row2_col0, #T_8dc82_row2_col1, #T_8dc82_row3_col0, #T_8dc82_row3_col1, #T_8dc82_row4_col0, #T_8dc82_row4_col1, #T_8dc82_row5_col0, #T_8dc82_row5_col1, #T_8dc82_row6_col0, #T_8dc82_row6_col1, #T_8dc82_row7_col0, #T_8dc82_row7_col1, #T_8dc82_row8_col0, #T_8dc82_row8_col1, #T_8dc82_row9_col0, #T_8dc82_row9_col1, #T_8dc82_row10_col0, #T_8dc82_row10_col1, #T_8dc82_row11_col0, #T_8dc82_row11_col1, #T_8dc82_row12_col0, #T_8dc82_row12_col1, #T_8dc82_row13_col0, #T_8dc82_row13_col1, #T_8dc82_row14_col0, #T_8dc82_row14_col1, #T_8dc82_row15_col0, #T_8dc82_row15_col1, #T_8dc82_row16_col0, #T_8dc82_row16_col1, #T_8dc82_row17_col0, #T_8dc82_row17_col1, #T_8dc82_row18_col0, #T_8dc82_row18_col1, #T_8dc82_row19_col0, #T_8dc82_row19_col1, #T_8dc82_row20_col0, #T_8dc82_row20_col1, #T_8dc82_row21_col0, #T_8dc82_row21_col1, #T_8dc82_row22_col0, #T_8dc82_row22_col1, #T_8dc82_row23_col0, #T_8dc82_row23_col1, #T_8dc82_row24_col0, #T_8dc82_row24_col1, #T_8dc82_row25_col0, #T_8dc82_row25_col1, #T_8dc82_row26_col0, #T_8dc82_row26_col1, #T_8dc82_row27_col0, #T_8dc82_row27_col1, #T_8dc82_row28_col0, #T_8dc82_row28_col1 {\n",
              "  background-color: #f7fbff;\n",
              "  color: #000000;\n",
              "}\n",
              "</style>\n",
              "<table id=\"T_8dc82\" class=\"dataframe\">\n",
              "  <thead>\n",
              "    <tr>\n",
              "      <th class=\"blank level0\" >&nbsp;</th>\n",
              "      <th id=\"T_8dc82_level0_col0\" class=\"col_heading level0 col0\" >Total Null Values</th>\n",
              "      <th id=\"T_8dc82_level0_col1\" class=\"col_heading level0 col1\" >Percentage</th>\n",
              "      <th id=\"T_8dc82_level0_col2\" class=\"col_heading level0 col2\" >Data Type</th>\n",
              "    </tr>\n",
              "  </thead>\n",
              "  <tbody>\n",
              "    <tr>\n",
              "      <th id=\"T_8dc82_level0_row0\" class=\"row_heading level0 row0\" >Income</th>\n",
              "      <td id=\"T_8dc82_row0_col0\" class=\"data row0 col0\" >24</td>\n",
              "      <td id=\"T_8dc82_row0_col1\" class=\"data row0 col1\" >1.071429</td>\n",
              "      <td id=\"T_8dc82_row0_col2\" class=\"data row0 col2\" >int64</td>\n",
              "    </tr>\n",
              "    <tr>\n",
              "      <th id=\"T_8dc82_level0_row1\" class=\"row_heading level0 row1\" >ID</th>\n",
              "      <td id=\"T_8dc82_row1_col0\" class=\"data row1 col0\" >0</td>\n",
              "      <td id=\"T_8dc82_row1_col1\" class=\"data row1 col1\" >0.000000</td>\n",
              "      <td id=\"T_8dc82_row1_col2\" class=\"data row1 col2\" >int64</td>\n",
              "    </tr>\n",
              "    <tr>\n",
              "      <th id=\"T_8dc82_level0_row2\" class=\"row_heading level0 row2\" >Z_CostContact</th>\n",
              "      <td id=\"T_8dc82_row2_col0\" class=\"data row2 col0\" >0</td>\n",
              "      <td id=\"T_8dc82_row2_col1\" class=\"data row2 col1\" >0.000000</td>\n",
              "      <td id=\"T_8dc82_row2_col2\" class=\"data row2 col2\" >int64</td>\n",
              "    </tr>\n",
              "    <tr>\n",
              "      <th id=\"T_8dc82_level0_row3\" class=\"row_heading level0 row3\" >Complain</th>\n",
              "      <td id=\"T_8dc82_row3_col0\" class=\"data row3 col0\" >0</td>\n",
              "      <td id=\"T_8dc82_row3_col1\" class=\"data row3 col1\" >0.000000</td>\n",
              "      <td id=\"T_8dc82_row3_col2\" class=\"data row3 col2\" >object</td>\n",
              "    </tr>\n",
              "    <tr>\n",
              "      <th id=\"T_8dc82_level0_row4\" class=\"row_heading level0 row4\" >AcceptedCmp2</th>\n",
              "      <td id=\"T_8dc82_row4_col0\" class=\"data row4 col0\" >0</td>\n",
              "      <td id=\"T_8dc82_row4_col1\" class=\"data row4 col1\" >0.000000</td>\n",
              "      <td id=\"T_8dc82_row4_col2\" class=\"data row4 col2\" >object</td>\n",
              "    </tr>\n",
              "    <tr>\n",
              "      <th id=\"T_8dc82_level0_row5\" class=\"row_heading level0 row5\" >AcceptedCmp1</th>\n",
              "      <td id=\"T_8dc82_row5_col0\" class=\"data row5 col0\" >0</td>\n",
              "      <td id=\"T_8dc82_row5_col1\" class=\"data row5 col1\" >0.000000</td>\n",
              "      <td id=\"T_8dc82_row5_col2\" class=\"data row5 col2\" >float64</td>\n",
              "    </tr>\n",
              "    <tr>\n",
              "      <th id=\"T_8dc82_level0_row6\" class=\"row_heading level0 row6\" >AcceptedCmp5</th>\n",
              "      <td id=\"T_8dc82_row6_col0\" class=\"data row6 col0\" >0</td>\n",
              "      <td id=\"T_8dc82_row6_col1\" class=\"data row6 col1\" >0.000000</td>\n",
              "      <td id=\"T_8dc82_row6_col2\" class=\"data row6 col2\" >int64</td>\n",
              "    </tr>\n",
              "    <tr>\n",
              "      <th id=\"T_8dc82_level0_row7\" class=\"row_heading level0 row7\" >AcceptedCmp4</th>\n",
              "      <td id=\"T_8dc82_row7_col0\" class=\"data row7 col0\" >0</td>\n",
              "      <td id=\"T_8dc82_row7_col1\" class=\"data row7 col1\" >0.000000</td>\n",
              "      <td id=\"T_8dc82_row7_col2\" class=\"data row7 col2\" >int64</td>\n",
              "    </tr>\n",
              "    <tr>\n",
              "      <th id=\"T_8dc82_level0_row8\" class=\"row_heading level0 row8\" >AcceptedCmp3</th>\n",
              "      <td id=\"T_8dc82_row8_col0\" class=\"data row8 col0\" >0</td>\n",
              "      <td id=\"T_8dc82_row8_col1\" class=\"data row8 col1\" >0.000000</td>\n",
              "      <td id=\"T_8dc82_row8_col2\" class=\"data row8 col2\" >object</td>\n",
              "    </tr>\n",
              "    <tr>\n",
              "      <th id=\"T_8dc82_level0_row9\" class=\"row_heading level0 row9\" >NumWebVisitsMonth</th>\n",
              "      <td id=\"T_8dc82_row9_col0\" class=\"data row9 col0\" >0</td>\n",
              "      <td id=\"T_8dc82_row9_col1\" class=\"data row9 col1\" >0.000000</td>\n",
              "      <td id=\"T_8dc82_row9_col2\" class=\"data row9 col2\" >int64</td>\n",
              "    </tr>\n",
              "    <tr>\n",
              "      <th id=\"T_8dc82_level0_row10\" class=\"row_heading level0 row10\" >NumStorePurchases</th>\n",
              "      <td id=\"T_8dc82_row10_col0\" class=\"data row10 col0\" >0</td>\n",
              "      <td id=\"T_8dc82_row10_col1\" class=\"data row10 col1\" >0.000000</td>\n",
              "      <td id=\"T_8dc82_row10_col2\" class=\"data row10 col2\" >int64</td>\n",
              "    </tr>\n",
              "    <tr>\n",
              "      <th id=\"T_8dc82_level0_row11\" class=\"row_heading level0 row11\" >NumCatalogPurchases</th>\n",
              "      <td id=\"T_8dc82_row11_col0\" class=\"data row11 col0\" >0</td>\n",
              "      <td id=\"T_8dc82_row11_col1\" class=\"data row11 col1\" >0.000000</td>\n",
              "      <td id=\"T_8dc82_row11_col2\" class=\"data row11 col2\" >int64</td>\n",
              "    </tr>\n",
              "    <tr>\n",
              "      <th id=\"T_8dc82_level0_row12\" class=\"row_heading level0 row12\" >NumWebPurchases</th>\n",
              "      <td id=\"T_8dc82_row12_col0\" class=\"data row12 col0\" >0</td>\n",
              "      <td id=\"T_8dc82_row12_col1\" class=\"data row12 col1\" >0.000000</td>\n",
              "      <td id=\"T_8dc82_row12_col2\" class=\"data row12 col2\" >int64</td>\n",
              "    </tr>\n",
              "    <tr>\n",
              "      <th id=\"T_8dc82_level0_row13\" class=\"row_heading level0 row13\" >NumDealsPurchases</th>\n",
              "      <td id=\"T_8dc82_row13_col0\" class=\"data row13 col0\" >0</td>\n",
              "      <td id=\"T_8dc82_row13_col1\" class=\"data row13 col1\" >0.000000</td>\n",
              "      <td id=\"T_8dc82_row13_col2\" class=\"data row13 col2\" >int64</td>\n",
              "    </tr>\n",
              "    <tr>\n",
              "      <th id=\"T_8dc82_level0_row14\" class=\"row_heading level0 row14\" >Z_Revenue</th>\n",
              "      <td id=\"T_8dc82_row14_col0\" class=\"data row14 col0\" >0</td>\n",
              "      <td id=\"T_8dc82_row14_col1\" class=\"data row14 col1\" >0.000000</td>\n",
              "      <td id=\"T_8dc82_row14_col2\" class=\"data row14 col2\" >int64</td>\n",
              "    </tr>\n",
              "    <tr>\n",
              "      <th id=\"T_8dc82_level0_row15\" class=\"row_heading level0 row15\" >MntGoldProds</th>\n",
              "      <td id=\"T_8dc82_row15_col0\" class=\"data row15 col0\" >0</td>\n",
              "      <td id=\"T_8dc82_row15_col1\" class=\"data row15 col1\" >0.000000</td>\n",
              "      <td id=\"T_8dc82_row15_col2\" class=\"data row15 col2\" >int64</td>\n",
              "    </tr>\n",
              "    <tr>\n",
              "      <th id=\"T_8dc82_level0_row16\" class=\"row_heading level0 row16\" >MntFishProducts</th>\n",
              "      <td id=\"T_8dc82_row16_col0\" class=\"data row16 col0\" >0</td>\n",
              "      <td id=\"T_8dc82_row16_col1\" class=\"data row16 col1\" >0.000000</td>\n",
              "      <td id=\"T_8dc82_row16_col2\" class=\"data row16 col2\" >int64</td>\n",
              "    </tr>\n",
              "    <tr>\n",
              "      <th id=\"T_8dc82_level0_row17\" class=\"row_heading level0 row17\" >MntMeatProducts</th>\n",
              "      <td id=\"T_8dc82_row17_col0\" class=\"data row17 col0\" >0</td>\n",
              "      <td id=\"T_8dc82_row17_col1\" class=\"data row17 col1\" >0.000000</td>\n",
              "      <td id=\"T_8dc82_row17_col2\" class=\"data row17 col2\" >int64</td>\n",
              "    </tr>\n",
              "    <tr>\n",
              "      <th id=\"T_8dc82_level0_row18\" class=\"row_heading level0 row18\" >MntFruits</th>\n",
              "      <td id=\"T_8dc82_row18_col0\" class=\"data row18 col0\" >0</td>\n",
              "      <td id=\"T_8dc82_row18_col1\" class=\"data row18 col1\" >0.000000</td>\n",
              "      <td id=\"T_8dc82_row18_col2\" class=\"data row18 col2\" >int64</td>\n",
              "    </tr>\n",
              "    <tr>\n",
              "      <th id=\"T_8dc82_level0_row19\" class=\"row_heading level0 row19\" >MntWines</th>\n",
              "      <td id=\"T_8dc82_row19_col0\" class=\"data row19 col0\" >0</td>\n",
              "      <td id=\"T_8dc82_row19_col1\" class=\"data row19 col1\" >0.000000</td>\n",
              "      <td id=\"T_8dc82_row19_col2\" class=\"data row19 col2\" >int64</td>\n",
              "    </tr>\n",
              "    <tr>\n",
              "      <th id=\"T_8dc82_level0_row20\" class=\"row_heading level0 row20\" >Recency</th>\n",
              "      <td id=\"T_8dc82_row20_col0\" class=\"data row20 col0\" >0</td>\n",
              "      <td id=\"T_8dc82_row20_col1\" class=\"data row20 col1\" >0.000000</td>\n",
              "      <td id=\"T_8dc82_row20_col2\" class=\"data row20 col2\" >int64</td>\n",
              "    </tr>\n",
              "    <tr>\n",
              "      <th id=\"T_8dc82_level0_row21\" class=\"row_heading level0 row21\" >Dt_Customer</th>\n",
              "      <td id=\"T_8dc82_row21_col0\" class=\"data row21 col0\" >0</td>\n",
              "      <td id=\"T_8dc82_row21_col1\" class=\"data row21 col1\" >0.000000</td>\n",
              "      <td id=\"T_8dc82_row21_col2\" class=\"data row21 col2\" >int64</td>\n",
              "    </tr>\n",
              "    <tr>\n",
              "      <th id=\"T_8dc82_level0_row22\" class=\"row_heading level0 row22\" >Teenhome</th>\n",
              "      <td id=\"T_8dc82_row22_col0\" class=\"data row22 col0\" >0</td>\n",
              "      <td id=\"T_8dc82_row22_col1\" class=\"data row22 col1\" >0.000000</td>\n",
              "      <td id=\"T_8dc82_row22_col2\" class=\"data row22 col2\" >int64</td>\n",
              "    </tr>\n",
              "    <tr>\n",
              "      <th id=\"T_8dc82_level0_row23\" class=\"row_heading level0 row23\" >Kidhome</th>\n",
              "      <td id=\"T_8dc82_row23_col0\" class=\"data row23 col0\" >0</td>\n",
              "      <td id=\"T_8dc82_row23_col1\" class=\"data row23 col1\" >0.000000</td>\n",
              "      <td id=\"T_8dc82_row23_col2\" class=\"data row23 col2\" >int64</td>\n",
              "    </tr>\n",
              "    <tr>\n",
              "      <th id=\"T_8dc82_level0_row24\" class=\"row_heading level0 row24\" >Marital_Status</th>\n",
              "      <td id=\"T_8dc82_row24_col0\" class=\"data row24 col0\" >0</td>\n",
              "      <td id=\"T_8dc82_row24_col1\" class=\"data row24 col1\" >0.000000</td>\n",
              "      <td id=\"T_8dc82_row24_col2\" class=\"data row24 col2\" >int64</td>\n",
              "    </tr>\n",
              "    <tr>\n",
              "      <th id=\"T_8dc82_level0_row25\" class=\"row_heading level0 row25\" >Education</th>\n",
              "      <td id=\"T_8dc82_row25_col0\" class=\"data row25 col0\" >0</td>\n",
              "      <td id=\"T_8dc82_row25_col1\" class=\"data row25 col1\" >0.000000</td>\n",
              "      <td id=\"T_8dc82_row25_col2\" class=\"data row25 col2\" >int64</td>\n",
              "    </tr>\n",
              "    <tr>\n",
              "      <th id=\"T_8dc82_level0_row26\" class=\"row_heading level0 row26\" >Year_Birth</th>\n",
              "      <td id=\"T_8dc82_row26_col0\" class=\"data row26 col0\" >0</td>\n",
              "      <td id=\"T_8dc82_row26_col1\" class=\"data row26 col1\" >0.000000</td>\n",
              "      <td id=\"T_8dc82_row26_col2\" class=\"data row26 col2\" >int64</td>\n",
              "    </tr>\n",
              "    <tr>\n",
              "      <th id=\"T_8dc82_level0_row27\" class=\"row_heading level0 row27\" >MntSweetProducts</th>\n",
              "      <td id=\"T_8dc82_row27_col0\" class=\"data row27 col0\" >0</td>\n",
              "      <td id=\"T_8dc82_row27_col1\" class=\"data row27 col1\" >0.000000</td>\n",
              "      <td id=\"T_8dc82_row27_col2\" class=\"data row27 col2\" >int64</td>\n",
              "    </tr>\n",
              "    <tr>\n",
              "      <th id=\"T_8dc82_level0_row28\" class=\"row_heading level0 row28\" >Response</th>\n",
              "      <td id=\"T_8dc82_row28_col0\" class=\"data row28 col0\" >0</td>\n",
              "      <td id=\"T_8dc82_row28_col1\" class=\"data row28 col1\" >0.000000</td>\n",
              "      <td id=\"T_8dc82_row28_col2\" class=\"data row28 col2\" >int64</td>\n",
              "    </tr>\n",
              "  </tbody>\n",
              "</table>\n"
            ]
          },
          "metadata": {},
          "execution_count": 20
        }
      ]
    },
    {
      "cell_type": "code",
      "source": [
        "missing_values = ['n/a', 'na', 'nan', '-', '--', 'null', 'Null', '', ' ', '-1', -1]\n",
        "for i in data.columns:\n",
        "    dmmy_col = data[i].apply(lambda x : str(x).strip())\n",
        "    isnan = dmmy_col.isin(missing_values).any()\n",
        "    miss = np.unique(dmmy_col[dmmy_col.isin(missing_values)].values)\n",
        "    if isnan :\n",
        "        print(\"{} = {} - {}\".format(i, isnan, miss))"
      ],
      "metadata": {
        "colab": {
          "base_uri": "https://localhost:8080/"
        },
        "id": "a0syr88-54Y3",
        "outputId": "9c848b43-893f-42c1-92db-4d3ae79a8134"
      },
      "execution_count": 21,
      "outputs": [
        {
          "output_type": "stream",
          "name": "stdout",
          "text": [
            "Income = True - ['nan']\n"
          ]
        }
      ]
    },
    {
      "cell_type": "code",
      "source": [
        "plt.figure(figsize=(10,6))\n",
        "\n",
        "dms = sns.displot(\n",
        "    data=data.isna().melt(value_name=\"missing\"),\n",
        "    y=\"variable\",\n",
        "    hue=\"missing\",\n",
        "    multiple=\"fill\",\n",
        "    aspect=1.25,\n",
        "    palette = [\"green\",\"red\"]\n",
        ")\n",
        "\n",
        "dms.set_yticklabels(size = 6)"
      ],
      "metadata": {
        "colab": {
          "base_uri": "https://localhost:8080/",
          "height": 541
        },
        "id": "wA4GNpUA6ImP",
        "outputId": "64447a1d-7766-4781-8a4f-8467f1af42f7"
      },
      "execution_count": 23,
      "outputs": [
        {
          "output_type": "execute_result",
          "data": {
            "text/plain": [
              "<seaborn.axisgrid.FacetGrid at 0x7f3a9b3a36a0>"
            ]
          },
          "metadata": {},
          "execution_count": 23
        },
        {
          "output_type": "display_data",
          "data": {
            "text/plain": [
              "<Figure size 1000x600 with 0 Axes>"
            ]
          },
          "metadata": {}
        },
        {
          "output_type": "display_data",
          "data": {
            "text/plain": [
              "<Figure size 709.875x500 with 1 Axes>"
            ],
            "image/png": "[encoded data removed]"
          },
          "metadata": {}
        }
      ]
    },
    {
      "cell_type": "markdown",
      "source": [
        "**Observations:**\n",
        "\n",
        "- column `Income` having 2216 not null, and `24 null / missing values` 1.07 percent are missing data\n",
        "\n",
        "- Since the dataset is not very large the impution of missing value perform during data preprocessing\n",
        " - Imputation using the Median, as it is highly positively skewed.\n",
        " - Multivariate approaches such as MICE Imputation, KNN Imputer, etc."
      ],
      "metadata": {
        "id": "O0AgNUEn6a2R"
      }
    },
    {
      "cell_type": "markdown",
      "source": [
        "### **Division by Type of Data**"
      ],
      "metadata": {
        "id": "-NVkieoF6p6v"
      }
    },
    {
      "cell_type": "markdown",
      "source": [
        "**List of Column Types:**\n",
        "\n",
        "- **Date**\n",
        "\n",
        "    `Dt_Customer`\n",
        "\n",
        "- **Categorical** (10 Columns) :\n",
        "    - `ID` - Nominal\n",
        "    - `Education` - Ordinal (Levels : Basic - Graduation - 2n Cycle - Master - PhD)\n",
        "    - `Marital_Status` - Nominal\n",
        "    - `AcceptedCmp1, AcceptedCmp2, AcceptedCmp3, AcceptedCmp4, AcceptedCmp5, Complain, Response` - Nominal (Binary 0 & 1)\n",
        "\n",
        "- **Continuous** (18 Columns):\n",
        "\n",
        "    `Year_Birth, Income, Kidhome, Teenhome,\n",
        "    Recency, MntWines, MntFruits, MntMeatProducts,\n",
        "    MntFishProducts, MntSweetProducts, MntGoldProds,\n",
        "    NumDealsPurchases, NumWebPurchases, NumCatalogPurchases,\n",
        "    NumStorePurchases, NumWebVisitsMonth, Z_CostContact, Z_Revenue`"
      ],
      "metadata": {
        "id": "3KYrvAuT6v_S"
      }
    },
    {
      "cell_type": "code",
      "source": [
        "cat_cols = ['ID', 'Education', 'Marital_Status', 'AcceptedCmp1',\n",
        "            'AcceptedCmp2', 'AcceptedCmp3', 'AcceptedCmp4',\n",
        "            'AcceptedCmp5', 'Complain', 'Response']\n",
        "\n",
        "num_cols = ['Year_Birth', 'Income', 'Kidhome', 'Teenhome',\n",
        "            'Recency', 'MntWines', 'MntFruits', 'MntMeatProducts',\n",
        "            'MntFishProducts', 'MntSweetProducts', 'MntGoldProds',\n",
        "            'NumDealsPurchases', 'NumWebPurchases', 'NumCatalogPurchases',\n",
        "            'NumStorePurchases', 'NumWebVisitsMonth', 'Z_CostContact', 'Z_Revenue']\n",
        "\n",
        "timestamp = [\"Dt_Customer\"]"
      ],
      "metadata": {
        "id": "zHwwUEOp6Nl3"
      },
      "execution_count": 25,
      "outputs": []
    },
    {
      "cell_type": "markdown",
      "source": [
        "## **📌 Data Types Information**"
      ],
      "metadata": {
        "id": "KL0M-K197K-t"
      }
    },
    {
      "cell_type": "code",
      "source": [
        "data.info()"
      ],
      "metadata": {
        "colab": {
          "base_uri": "https://localhost:8080/"
        },
        "id": "BCJuuQSe6_B1",
        "outputId": "deb2af39-af90-4537-da00-65cf91fa95a0"
      },
      "execution_count": 26,
      "outputs": [
        {
          "output_type": "stream",
          "name": "stdout",
          "text": [
            "<class 'pandas.core.frame.DataFrame'>\n",
            "RangeIndex: 2240 entries, 0 to 2239\n",
            "Data columns (total 29 columns):\n",
            " #   Column               Non-Null Count  Dtype  \n",
            "---  ------               --------------  -----  \n",
            " 0   ID                   2240 non-null   int64  \n",
            " 1   Year_Birth           2240 non-null   int64  \n",
            " 2   Education            2240 non-null   object \n",
            " 3   Marital_Status       2240 non-null   object \n",
            " 4   Income               2216 non-null   float64\n",
            " 5   Kidhome              2240 non-null   int64  \n",
            " 6   Teenhome             2240 non-null   int64  \n",
            " 7   Dt_Customer          2240 non-null   object \n",
            " 8   Recency              2240 non-null   int64  \n",
            " 9   MntWines             2240 non-null   int64  \n",
            " 10  MntFruits            2240 non-null   int64  \n",
            " 11  MntMeatProducts      2240 non-null   int64  \n",
            " 12  MntFishProducts      2240 non-null   int64  \n",
            " 13  MntSweetProducts     2240 non-null   int64  \n",
            " 14  MntGoldProds         2240 non-null   int64  \n",
            " 15  NumDealsPurchases    2240 non-null   int64  \n",
            " 16  NumWebPurchases      2240 non-null   int64  \n",
            " 17  NumCatalogPurchases  2240 non-null   int64  \n",
            " 18  NumStorePurchases    2240 non-null   int64  \n",
            " 19  NumWebVisitsMonth    2240 non-null   int64  \n",
            " 20  AcceptedCmp3         2240 non-null   int64  \n",
            " 21  AcceptedCmp4         2240 non-null   int64  \n",
            " 22  AcceptedCmp5         2240 non-null   int64  \n",
            " 23  AcceptedCmp1         2240 non-null   int64  \n",
            " 24  AcceptedCmp2         2240 non-null   int64  \n",
            " 25  Complain             2240 non-null   int64  \n",
            " 26  Z_CostContact        2240 non-null   int64  \n",
            " 27  Z_Revenue            2240 non-null   int64  \n",
            " 28  Response             2240 non-null   int64  \n",
            "dtypes: float64(1), int64(25), object(3)\n",
            "memory usage: 507.6+ KB\n"
          ]
        }
      ]
    },
    {
      "cell_type": "code",
      "source": [],
      "metadata": {
        "id": "gDubnxZi7OJw"
      },
      "execution_count": null,
      "outputs": []
    }
  ]
}